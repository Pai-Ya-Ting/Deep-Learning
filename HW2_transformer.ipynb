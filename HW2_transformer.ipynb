{
  "nbformat": 4,
  "nbformat_minor": 5,
  "metadata": {
    "kernelspec": {
      "display_name": "Python 3",
      "language": "python",
      "name": "python3"
    },
    "language_info": {
      "codemirror_mode": {
        "name": "ipython",
        "version": 3
      },
      "file_extension": ".py",
      "mimetype": "text/x-python",
      "name": "python",
      "nbconvert_exporter": "python",
      "pygments_lexer": "ipython3",
      "version": "3.7.6"
    },
    "colab": {
      "name": "0852629_transformer.ipynb",
      "provenance": [],
      "collapsed_sections": [],
      "include_colab_link": true
    },
    "accelerator": "GPU"
  },
  "cells": [
    {
      "cell_type": "markdown",
      "metadata": {
        "id": "view-in-github",
        "colab_type": "text"
      },
      "source": [
        "<a href=\"https://colab.research.google.com/github/jery5237hent/Deep-Learning/blob/main/HW2_transformer.ipynb\" target=\"_parent\"><img src=\"https://colab.research.google.com/assets/colab-badge.svg\" alt=\"Open In Colab\"/></a>"
      ]
    },
    {
      "cell_type": "code",
      "metadata": {
        "scrolled": true,
        "colab": {
          "base_uri": "https://localhost:8080/"
        },
        "id": "6e89b55f",
        "outputId": "09b5fc15-2256-4cd5-8a49-43c1136086d1"
      },
      "source": [
        "import torch   \n",
        "import pandas as pd\n",
        "import torch.nn as nn\n",
        "import torch.nn.functional as F\n",
        "import torch.optim as optim\n",
        "from torchtext.legacy import data\n",
        "import spacy\n",
        "import numpy as np\n",
        "import matplotlib.pyplot as plt\n",
        "from torchtext.vocab import GloVe\n",
        "import random\n",
        "\n",
        "SEED = 2021\n",
        "torch.manual_seed(SEED)\n",
        "np.random.seed(SEED)\n",
        "random.seed(SEED)\n",
        "torch.cuda.manual_seed(SEED)\n",
        "torch.backends.cudnn.deterministic = True\n",
        "torch.backends.cudnn.benchmark = False\n",
        "device = torch.device('cuda' if torch.cuda.is_available() else 'cpu')\n",
        "device"
      ],
      "id": "6e89b55f",
      "execution_count": null,
      "outputs": [
        {
          "output_type": "execute_result",
          "data": {
            "text/plain": [
              "device(type='cuda')"
            ]
          },
          "metadata": {
            "tags": []
          },
          "execution_count": 1
        }
      ]
    },
    {
      "cell_type": "code",
      "metadata": {
        "id": "aHg1cPhnPfaO"
      },
      "source": [
        "# !pip install spacy-transformers\n",
        "# !python -m spacy download en_core_web_trf"
      ],
      "id": "aHg1cPhnPfaO",
      "execution_count": null,
      "outputs": []
    },
    {
      "cell_type": "code",
      "metadata": {
        "id": "c789f120"
      },
      "source": [
        "def accuracy(y_pred, y_test):\n",
        "    pred = torch.argmax(y_pred, dim = 1, keepdim = True).squeeze(1)\n",
        "    return (pred == y_test).sum()/len(y_test)"
      ],
      "id": "c789f120",
      "execution_count": null,
      "outputs": []
    },
    {
      "cell_type": "code",
      "metadata": {
        "id": "4cfa9831"
      },
      "source": [
        "def train(data, optimizer, criterion):\n",
        "    epoch_loss = 0\n",
        "    epoch_acc = 0\n",
        "\n",
        "    model.train()\n",
        "    for batch in data:\n",
        "        optimizer.zero_grad()\n",
        "        \n",
        "        text, text_len = batch.title\n",
        "        tag, tag_len = batch.pos_tag\n",
        "        # print(tag)\n",
        "        prediction, weights = model(text, tag)\n",
        "        batch_loss = criterion(prediction, batch.category.squeeze(1))\n",
        "        batch_acc = accuracy(prediction, batch.category.squeeze(1))\n",
        "\n",
        "        batch_loss.backward()\n",
        "        nn.utils.clip_grad_norm_(model.parameters(), 0.01)\n",
        "        optimizer.step()\n",
        "        scheduler.step()\n",
        "        \n",
        "        epoch_loss += batch_loss.item()\n",
        "        epoch_acc += batch_acc.item()\n",
        "\n",
        "    return epoch_loss / len(data), epoch_acc / len(data)"
      ],
      "id": "4cfa9831",
      "execution_count": null,
      "outputs": []
    },
    {
      "cell_type": "code",
      "metadata": {
        "id": "36f7c231"
      },
      "source": [
        "def predict(data, model, optimizer, criterion):\n",
        "    epoch_loss = 0\n",
        "    epoch_acc = 0\n",
        "    \n",
        "    model.eval()\n",
        "    ans = []\n",
        "    \n",
        "    with torch.no_grad():\n",
        "        for batch in data:\n",
        "            text, text_len = batch.title\n",
        "            tag, tag_len = batch.pos_tag\n",
        "            prediction, _ = model(text, tag)#.squeeze(1)\n",
        "            pred = torch.argmax(prediction, dim = 1, keepdim = True).squeeze(1)\n",
        "            ans.extend(list(map(lambda x: category.vocab.itos[x], pred)))\n",
        "            \n",
        "        return pd.DataFrame(ans, columns=['Category'])"
      ],
      "id": "36f7c231",
      "execution_count": null,
      "outputs": []
    },
    {
      "cell_type": "code",
      "metadata": {
        "id": "01f9193c"
      },
      "source": [
        "def evaluate(data, optimizer, criterion):\n",
        "    epoch_loss = 0\n",
        "    epoch_acc = 0\n",
        "    \n",
        "    model.eval()\n",
        "    \n",
        "    with torch.no_grad():\n",
        "        for batch in data:\n",
        "            text, text_len = batch.title\n",
        "            tag, tag_len = batch.pos_tag\n",
        "            prediction, _ = model(text, tag)#.squeeze(1)\n",
        "\n",
        "            batch_loss = criterion(prediction, batch.category.squeeze(1))\n",
        "            batch_acc = accuracy(prediction, batch.category.squeeze(1))\n",
        "            \n",
        "            epoch_loss += batch_loss.item()\n",
        "            epoch_acc += batch_acc.item()\n",
        "        return epoch_loss / len(data), epoch_acc / len(data)"
      ],
      "id": "01f9193c",
      "execution_count": null,
      "outputs": []
    },
    {
      "cell_type": "code",
      "metadata": {
        "id": "177eb5f7"
      },
      "source": [
        "def build_dict():\n",
        "    category.build_vocab(train_data)\n",
        "    title.build_vocab(train_data, test_data, vectors = GloVe(), unk_init=torch.Tensor.normal_)\n",
        "    \n",
        "    vocab = title.vocab\n",
        "    vocab_size = len(title.vocab)\n",
        "    n_class = len(category.vocab)\n",
        "    \n",
        "    PAD_IDX= vocab.stoi[title.pad_token]\n",
        "    UNK_IDX = vocab.stoi[title.unk_token]\n",
        "\n",
        "    vocab.vectors[UNK_IDX]=torch.zeros(vocab.vectors.shape[1])\n",
        "    vocab.vectors[PAD_IDX]=torch.zeros(vocab.vectors.shape[1])\n",
        "    \n",
        "    return vocab_size, vocab, n_class"
      ],
      "id": "177eb5f7",
      "execution_count": null,
      "outputs": []
    },
    {
      "cell_type": "code",
      "metadata": {
        "id": "fb2ee984"
      },
      "source": [
        "def prepare_data(train, test):\n",
        "    train = data.BucketIterator(\n",
        "      (train),\n",
        "      sort_key = lambda x: len(x.title),\n",
        "      sort = True,\n",
        "      sort_within_batch=True,\n",
        "      batch_size = 256,\n",
        "      device = device\n",
        "    )\n",
        "\n",
        "    test = data.BucketIterator(\n",
        "      (test),\n",
        "      batch_size = 256,\n",
        "        sort = False,\n",
        "        sort_within_batch=False,\n",
        "        shuffle=False,\n",
        "      device = device\n",
        "    )\n",
        "    \n",
        "    return train, test"
      ],
      "id": "fb2ee984",
      "execution_count": null,
      "outputs": []
    },
    {
      "cell_type": "code",
      "metadata": {
        "id": "t_eDVJ4ryTjI"
      },
      "source": [
        "def tag(text):\n",
        "  return [token.pos_ for token in nlp(text)]"
      ],
      "id": "t_eDVJ4ryTjI",
      "execution_count": null,
      "outputs": []
    },
    {
      "cell_type": "code",
      "metadata": {
        "id": "HcNTXtGPyhec"
      },
      "source": [
        "df = pd.read_csv('news_data/train.csv')\n",
        "df['Tag'] = df['Title']\n",
        "df.to_csv('news_data/train.csv', index = False)\n",
        "\n",
        "df = pd.read_csv('news_data/test.csv')\n",
        "df['Tag'] = df['Title']\n",
        "df.to_csv('news_data/test.csv', index = False)"
      ],
      "id": "HcNTXtGPyhec",
      "execution_count": null,
      "outputs": []
    },
    {
      "cell_type": "code",
      "metadata": {
        "scrolled": true,
        "id": "b2d0d509"
      },
      "source": [
        "nlp = spacy.load('en_core_web_trf')\n",
        "stop_words = nlp.Defaults.stop_words\n",
        "category = data.Field(batch_first=True, pad_token=None, unk_token=None) \n",
        "title = data.Field(tokenize='spacy', tokenizer_language='en_core_web_trf', fix_length=12, #stop_words=stop_words, \n",
        "                   batch_first=True, lower= True, include_lengths=True, init_token='<sos>', eos_token='<eos>')\n",
        "\n",
        "tagging = data.Field(tokenize=tag, tokenizer_language='en_core_web_trf', fix_length=12, #stop_words=stop_words, \n",
        "                   batch_first=True, include_lengths=True, init_token='<sos>', eos_token='<eos>')\n",
        "\n",
        "train_data = data.TabularDataset(\n",
        "   path = 'news_data/train.csv',\n",
        "   format = 'csv',\n",
        "   fields = [(None, None), ('category', category), ('title', title), ('pos_tag', tagging)],\n",
        "   skip_header = True\n",
        ")\n",
        "\n",
        "test_data = data.TabularDataset(\n",
        "   path = 'news_data/test.csv',\n",
        "   format = 'csv',\n",
        "   fields = [(None, None), ('title', title), ('pos_tag', tagging)],\n",
        "   skip_header = True\n",
        ")\n",
        "\n",
        "# check an example\n",
        "# print(vars(train_data[0]), vars(test_data[0]))\n",
        "# print(vars(train_data[0]))"
      ],
      "id": "b2d0d509",
      "execution_count": null,
      "outputs": []
    },
    {
      "cell_type": "code",
      "metadata": {
        "id": "Bv99mEdFWKnD"
      },
      "source": [
        "train_set, valid_set = train_data.split(split_ratio=0.8, random_state=random.getstate())"
      ],
      "id": "Bv99mEdFWKnD",
      "execution_count": null,
      "outputs": []
    },
    {
      "cell_type": "code",
      "metadata": {
        "id": "85067a5f"
      },
      "source": [
        "class Transformerlayer(nn.Module):\n",
        "    def __init__(self):\n",
        "    \n",
        "        super(Transformerlayer, self).__init__()\n",
        "        dropout = 0.1\n",
        "        nheads = 2\n",
        "        dim_feedforward = 1024\n",
        "        \n",
        "        self.embedding_dim = vocab.vectors.shape[1]\n",
        "        self.attn = nn.MultiheadAttention(embed_dim = self.embedding_dim, dropout = dropout, num_heads = nheads)\n",
        "        self.linear1 = nn.Linear(self.embedding_dim, dim_feedforward)\n",
        "        self.dropout1 = nn.Dropout(dropout)\n",
        "        self.linear2 = nn.Linear(dim_feedforward, self.embedding_dim)\n",
        "        self.norm1 = nn.LayerNorm(self.embedding_dim)\n",
        "        self.norm2 = nn.LayerNorm(self.embedding_dim)\n",
        "        self.dropout2 = nn.Dropout(dropout)\n",
        "        self.dropout3 = nn.Dropout(dropout)\n",
        "        \n",
        "    def forward(self, x, src_mask, padding_mask):\n",
        "        x1, weights = self.attn(x, x, x, attn_mask=src_mask, key_padding_mask= padding_mask)\n",
        "        x = x + self.dropout2(x1)\n",
        "        x = self.norm1(x)\n",
        "        x1 = self.linear2(self.dropout1(F.relu(self.linear1(x))))\n",
        "        x = x + self.dropout3(x1)\n",
        "        x = self.norm2(x)\n",
        "        \n",
        "        return x, weights"
      ],
      "id": "85067a5f",
      "execution_count": null,
      "outputs": []
    },
    {
      "cell_type": "code",
      "metadata": {
        "id": "d0bec7c6"
      },
      "source": [
        "class Transformer(nn.Module):\n",
        "    def __init__(self):\n",
        "    \n",
        "        super(Transformer, self).__init__()\n",
        "\n",
        "        self.n = 16\n",
        "        self.embedding_dim = vocab.vectors.shape[1]\n",
        "        self.embedding = nn.Embedding.from_pretrained(vocab.vectors)\n",
        "        single_encoder = Transformerlayer()\n",
        "        self.Encoder = nn.ModuleList([single_encoder for i in range(2)])\n",
        "        self.Decoder = nn.Sequential(nn.Linear(self.embedding_dim + self.n, 256), nn.ReLU(), nn.Linear(256, n_class))\n",
        "        self.pos = PositionalEncoding(self.embedding_dim)\n",
        "\n",
        "        self.embedding1 = nn.Embedding(len(tagging.vocab), self.n)\n",
        "        encoder_layer = nn.TransformerEncoderLayer(d_model=self.n, nhead=2, dim_feedforward=64)\n",
        "        self.Encoder1 = nn.TransformerEncoder(encoder_layer, num_layers = 2)\n",
        "        # self.Decoder1 = nn.Linear(tagging.vocab.shape[1], 20)\n",
        "        self.pos1 = PositionalEncoding(self.n)\n",
        "\n",
        "    def forward(self, text, tag):\n",
        "#       embedding -> position -> transformer(encoder)  -> transformer(decoder)\n",
        "        # padding_mask = (torch.zeros((outputs.shape[0], outputs.shape[1])) == vocab.stoi['<pad>']).to(device)\n",
        "\n",
        "        outputs = (self.embedding(text)) * np.sqrt(self.embedding_dim) # (batch_size, title_len, embedding_dim)\n",
        "        outputs = self.pos(outputs.transpose(0, 1)).to(device)  # (batch_size, title_len, embedding_dim)\n",
        "\n",
        "        weights = []\n",
        "        for m in self.Encoder:\n",
        "            outputs, weight = m(outputs, None, None)\n",
        "            weights.append(weight)\n",
        "\n",
        "        outputs = outputs.transpose(0, 1)\n",
        "        outputs = torch.mean(outputs, dim = 1)\n",
        "\n",
        "        outputs1 = (self.embedding1(tag)) * np.sqrt(self.n) # (batch_size, title_len, embedding_dim)\n",
        "        outputs1 = self.pos1(outputs1.transpose(0, 1)).to(device)  # (batch_size, title_len, embedding_dim)\n",
        "        outputs1 = self.Encoder1(outputs1)\n",
        "        outputs1 = outputs1.transpose(0, 1)\n",
        "\n",
        "        outputs1 = torch.mean(outputs1, dim = 1)\n",
        "\n",
        "        outputs = torch.cat((outputs, outputs1), 1)\n",
        "        # print(outputs.shape)\n",
        "        assert outputs.shape[-1] == self.embedding_dim + self.n\n",
        "        # outputs = torch.mean(outputs, dim = 1)\n",
        "\n",
        "        outputs = F.softmax(self.Decoder(outputs), dim=1)\n",
        "        return outputs, weights"
      ],
      "id": "d0bec7c6",
      "execution_count": null,
      "outputs": []
    },
    {
      "cell_type": "code",
      "metadata": {
        "id": "d9585b1f"
      },
      "source": [
        "class PositionalEncoding(nn.Module):\n",
        "    def __init__(self, d_model, dropout=0.1, max_len=20):\n",
        "        super(PositionalEncoding, self).__init__()\n",
        "        self.dropout = nn.Dropout(p=dropout)\n",
        "        pe = torch.zeros(max_len, d_model)\n",
        "        position = torch.arange(max_len, dtype=torch.float).unsqueeze(1)\n",
        "        \n",
        "        div_term = torch.exp(torch.arange(0, d_model, 2).float() * (- np.log(10000.0) / d_model))\n",
        "        pe[:, 0::2] = torch.sin(position * div_term)\n",
        "        pe[:, 1::2] = torch.cos(position * div_term)\n",
        "        pe = pe.unsqueeze(0).transpose(0, 1)\n",
        "        self.register_buffer('pe', pe)\n",
        "\n",
        "    def forward(self, x):\n",
        "        x = x.to(device)\n",
        "        x = x + (self.pe[:x.size(0), :]).to(device)\n",
        "        return self.dropout(x)"
      ],
      "id": "d9585b1f",
      "execution_count": null,
      "outputs": []
    },
    {
      "cell_type": "code",
      "metadata": {
        "id": "06818dca"
      },
      "source": [
        "def plot_attention(text, tag):\n",
        "    prediction, w = model(text, tag)\n",
        "    pred = torch.argmax(prediction, dim = 1, keepdim = True).squeeze(1)\n",
        "    \n",
        "    print(f\"Prediction : {category.vocab.itos[pred[-5]]}\")\n",
        "    text = text[-5].detach().cpu().numpy()\n",
        "\n",
        "    plt.imshow(w[-1][-5].detach().cpu().numpy(), cmap = \"gray\", interpolation='none')\n",
        "    plt.yticks(np.arange(len(text)), np.array(vocab.itos)[text])\n",
        "    plt.xticks(np.arange(len(text)), np.array(vocab.itos)[text],\n",
        "                rotation=45, ha=\"right\",rotation_mode=\"anchor\")\n",
        "    plt.title(f'Multihead Attention Map')\n",
        "    plt.show()"
      ],
      "id": "06818dca",
      "execution_count": null,
      "outputs": []
    },
    {
      "cell_type": "code",
      "metadata": {
        "id": "JZ31yLfJx8fH"
      },
      "source": [
        "tagging.build_vocab(train_data, test_data)"
      ],
      "id": "JZ31yLfJx8fH",
      "execution_count": null,
      "outputs": []
    },
    {
      "cell_type": "code",
      "metadata": {
        "scrolled": true,
        "colab": {
          "base_uri": "https://localhost:8080/"
        },
        "id": "ddeb085b",
        "outputId": "ea49641d-48bd-4453-e9b7-7cd33ab50be4"
      },
      "source": [
        "N_EPOCHS = 75\n",
        "best_loss = float('inf')\n",
        "train_loss = train_acc = 0\n",
        "l_train, acc_train = [], []\n",
        "l_valid, acc_valid = [], []\n",
        "\n",
        "vocab_size, vocab, n_class = build_dict()\n",
        "model = Transformer().to(device)\n",
        "# model.load_state_dict(torch.load('transformer_90990.pt'))\n",
        "\n",
        "optimizer = optim.Adam(model.parameters(), lr=7e-3, betas=(0.9, 0.98), eps = 1e-9, weight_decay=1e-5)\n",
        "\n",
        "# optimizer = optim.Adam(model.parameters(), lr=1e-2, betas=(0.9, 0.98), eps = 1e-9)#, weight_decay=1e-6)\n",
        "\n",
        "lambda_scheduler = lambda step: vocab.vectors.shape[1] ** (-0.5) * min(1/np.sqrt((step+1)), (step+1)* (150**(-1.5)))\n",
        "scheduler = optim.lr_scheduler.LambdaLR(optimizer, lr_lambda=lambda_scheduler)\n",
        "\n",
        "criterion = nn.CrossEntropyLoss() #ignore_index = vocab.stoi['<pad>']\n",
        "learning_rate = []\n",
        "training_data, testing_data = prepare_data(train_set, valid_set)\n",
        "\n",
        "for epoch in range(N_EPOCHS):\n",
        "\n",
        "    train_loss, train_acc = train(training_data, optimizer, criterion)\n",
        "    valid_loss, valid_acc = evaluate(testing_data, optimizer, criterion)\n",
        "    \n",
        "    if valid_loss < best_loss:\n",
        "        best_loss = valid_loss\n",
        "        best_model = model\n",
        "    \n",
        "    acc_train.append(train_acc)\n",
        "    l_train.append(train_loss)\n",
        "\n",
        "    acc_valid.append(valid_acc)\n",
        "    l_valid.append(valid_loss)\n",
        "\n",
        "    learning_rate.append(optimizer.param_groups[0]['lr'])\n",
        "\n",
        "    # if (epoch+1) % 5 == 0:\n",
        "    print(f'Epoch: {epoch+1}')\n",
        "    print('learning rate: ', optimizer.param_groups[0]['lr'])\n",
        "    print(f'\\tTrain Loss: {train_loss:.3f} | Train Acc: {train_acc*100:.2f}%')\n",
        "    print(f'\\tValid Loss: {valid_loss:.3f} | Valid Acc: {valid_acc*100:.2f}%')"
      ],
      "id": "ddeb085b",
      "execution_count": null,
      "outputs": [
        {
          "output_type": "stream",
          "text": [
            "Epoch: 1\n",
            "learning rate:  1.5399214345840372e-06\n",
            "\tTrain Loss: 1.611 | Train Acc: 20.69%\n",
            "\tValid Loss: 1.612 | Valid Acc: 17.07%\n",
            "Epoch: 2\n",
            "learning rate:  2.859854092798926e-06\n",
            "\tTrain Loss: 1.611 | Train Acc: 20.25%\n",
            "\tValid Loss: 1.611 | Valid Acc: 18.55%\n",
            "Epoch: 3\n",
            "learning rate:  4.179786751013815e-06\n",
            "\tTrain Loss: 1.610 | Train Acc: 21.16%\n",
            "\tValid Loss: 1.610 | Valid Acc: 19.94%\n",
            "Epoch: 4\n",
            "learning rate:  5.499719409228704e-06\n",
            "\tTrain Loss: 1.609 | Train Acc: 23.50%\n",
            "\tValid Loss: 1.608 | Valid Acc: 23.78%\n",
            "Epoch: 5\n",
            "learning rate:  6.819652067443592e-06\n",
            "\tTrain Loss: 1.607 | Train Acc: 25.49%\n",
            "\tValid Loss: 1.606 | Valid Acc: 26.26%\n",
            "Epoch: 6\n",
            "learning rate:  8.13958472565848e-06\n",
            "\tTrain Loss: 1.605 | Train Acc: 28.45%\n",
            "\tValid Loss: 1.603 | Valid Acc: 29.43%\n",
            "Epoch: 7\n",
            "learning rate:  9.45951738387337e-06\n",
            "\tTrain Loss: 1.602 | Train Acc: 31.36%\n",
            "\tValid Loss: 1.600 | Valid Acc: 30.21%\n",
            "Epoch: 8\n",
            "learning rate:  1.077945004208826e-05\n",
            "\tTrain Loss: 1.599 | Train Acc: 31.22%\n",
            "\tValid Loss: 1.597 | Valid Acc: 31.19%\n",
            "Epoch: 9\n",
            "learning rate:  1.2099382700303148e-05\n",
            "\tTrain Loss: 1.596 | Train Acc: 31.76%\n",
            "\tValid Loss: 1.593 | Valid Acc: 32.27%\n",
            "Epoch: 10\n",
            "learning rate:  1.3419315358518036e-05\n",
            "\tTrain Loss: 1.592 | Train Acc: 34.56%\n",
            "\tValid Loss: 1.588 | Valid Acc: 33.97%\n",
            "Epoch: 11\n",
            "learning rate:  1.4739248016732927e-05\n",
            "\tTrain Loss: 1.588 | Train Acc: 34.14%\n",
            "\tValid Loss: 1.582 | Valid Acc: 35.66%\n",
            "Epoch: 12\n",
            "learning rate:  1.605918067494781e-05\n",
            "\tTrain Loss: 1.581 | Train Acc: 34.84%\n",
            "\tValid Loss: 1.576 | Valid Acc: 35.75%\n",
            "Epoch: 13\n",
            "learning rate:  1.7379113333162703e-05\n",
            "\tTrain Loss: 1.576 | Train Acc: 37.41%\n",
            "\tValid Loss: 1.568 | Valid Acc: 35.95%\n",
            "Epoch: 14\n",
            "learning rate:  1.8699045991377592e-05\n",
            "\tTrain Loss: 1.568 | Train Acc: 39.42%\n",
            "\tValid Loss: 1.559 | Valid Acc: 40.51%\n",
            "Epoch: 15\n",
            "learning rate:  2.001897864959248e-05\n",
            "\tTrain Loss: 1.560 | Train Acc: 42.52%\n",
            "\tValid Loss: 1.548 | Valid Acc: 44.27%\n",
            "Epoch: 16\n",
            "learning rate:  2.1338911307807372e-05\n",
            "\tTrain Loss: 1.549 | Train Acc: 45.04%\n",
            "\tValid Loss: 1.535 | Valid Acc: 46.33%\n",
            "Epoch: 17\n",
            "learning rate:  2.265884396602226e-05\n",
            "\tTrain Loss: 1.537 | Train Acc: 48.72%\n",
            "\tValid Loss: 1.520 | Valid Acc: 47.80%\n",
            "Epoch: 18\n",
            "learning rate:  2.397877662423715e-05\n",
            "\tTrain Loss: 1.522 | Train Acc: 51.40%\n",
            "\tValid Loss: 1.503 | Valid Acc: 48.70%\n",
            "Epoch: 19\n",
            "learning rate:  2.5298709282452034e-05\n",
            "\tTrain Loss: 1.507 | Train Acc: 54.34%\n",
            "\tValid Loss: 1.484 | Valid Acc: 52.17%\n",
            "Epoch: 20\n",
            "learning rate:  2.6618641940666922e-05\n",
            "\tTrain Loss: 1.489 | Train Acc: 56.50%\n",
            "\tValid Loss: 1.464 | Valid Acc: 54.65%\n",
            "Epoch: 21\n",
            "learning rate:  2.7938574598881814e-05\n",
            "\tTrain Loss: 1.470 | Train Acc: 57.37%\n",
            "\tValid Loss: 1.442 | Valid Acc: 58.10%\n",
            "Epoch: 22\n",
            "learning rate:  2.9258507257096706e-05\n",
            "\tTrain Loss: 1.447 | Train Acc: 59.53%\n",
            "\tValid Loss: 1.419 | Valid Acc: 60.77%\n",
            "Epoch: 23\n",
            "learning rate:  3.0578439915311594e-05\n",
            "\tTrain Loss: 1.423 | Train Acc: 60.50%\n",
            "\tValid Loss: 1.395 | Valid Acc: 62.95%\n",
            "Epoch: 24\n",
            "learning rate:  3.1898372573526486e-05\n",
            "\tTrain Loss: 1.397 | Train Acc: 63.74%\n",
            "\tValid Loss: 1.370 | Valid Acc: 64.23%\n",
            "Epoch: 25\n",
            "learning rate:  3.288886900144577e-05\n",
            "\tTrain Loss: 1.373 | Train Acc: 64.37%\n",
            "\tValid Loss: 1.346 | Valid Acc: 66.20%\n",
            "Epoch: 26\n",
            "learning rate:  3.225429743088639e-05\n",
            "\tTrain Loss: 1.348 | Train Acc: 67.62%\n",
            "\tValid Loss: 1.323 | Valid Acc: 69.90%\n",
            "Epoch: 27\n",
            "learning rate:  3.165509421522942e-05\n",
            "\tTrain Loss: 1.327 | Train Acc: 70.25%\n",
            "\tValid Loss: 1.301 | Valid Acc: 71.79%\n",
            "Epoch: 28\n",
            "learning rate:  3.108809141790293e-05\n",
            "\tTrain Loss: 1.302 | Train Acc: 71.87%\n",
            "\tValid Loss: 1.280 | Valid Acc: 72.87%\n",
            "Epoch: 29\n",
            "learning rate:  3.055050463303893e-05\n",
            "\tTrain Loss: 1.278 | Train Acc: 74.73%\n",
            "\tValid Loss: 1.260 | Valid Acc: 73.96%\n",
            "Epoch: 30\n",
            "learning rate:  3.0039875279601217e-05\n",
            "\tTrain Loss: 1.261 | Train Acc: 75.77%\n",
            "\tValid Loss: 1.241 | Valid Acc: 75.24%\n",
            "Epoch: 31\n",
            "learning rate:  2.9554023164452434e-05\n",
            "\tTrain Loss: 1.243 | Train Acc: 76.56%\n",
            "\tValid Loss: 1.223 | Valid Acc: 75.63%\n",
            "Epoch: 32\n",
            "learning rate:  2.9091007222318392e-05\n",
            "\tTrain Loss: 1.222 | Train Acc: 78.99%\n",
            "\tValid Loss: 1.207 | Valid Acc: 77.22%\n",
            "Epoch: 33\n",
            "learning rate:  2.8649092817452024e-05\n",
            "\tTrain Loss: 1.205 | Train Acc: 79.34%\n",
            "\tValid Loss: 1.192 | Valid Acc: 77.61%\n",
            "Epoch: 34\n",
            "learning rate:  2.822672434909291e-05\n",
            "\tTrain Loss: 1.188 | Train Acc: 80.71%\n",
            "\tValid Loss: 1.179 | Valid Acc: 79.20%\n",
            "Epoch: 35\n",
            "learning rate:  2.7822502173100746e-05\n",
            "\tTrain Loss: 1.176 | Train Acc: 81.54%\n",
            "\tValid Loss: 1.166 | Valid Acc: 80.09%\n",
            "Epoch: 36\n",
            "learning rate:  2.7435163058436715e-05\n",
            "\tTrain Loss: 1.165 | Train Acc: 82.11%\n",
            "\tValid Loss: 1.156 | Valid Acc: 80.87%\n",
            "Epoch: 37\n",
            "learning rate:  2.7063563555947068e-05\n",
            "\tTrain Loss: 1.155 | Train Acc: 82.57%\n",
            "\tValid Loss: 1.146 | Valid Acc: 81.76%\n",
            "Epoch: 38\n",
            "learning rate:  2.670666578007805e-05\n",
            "\tTrain Loss: 1.138 | Train Acc: 83.55%\n",
            "\tValid Loss: 1.137 | Valid Acc: 82.34%\n",
            "Epoch: 39\n",
            "learning rate:  2.6363525200414834e-05\n",
            "\tTrain Loss: 1.131 | Train Acc: 83.49%\n",
            "\tValid Loss: 1.131 | Valid Acc: 82.23%\n",
            "Epoch: 40\n",
            "learning rate:  2.603328011569606e-05\n",
            "\tTrain Loss: 1.120 | Train Acc: 84.48%\n",
            "\tValid Loss: 1.123 | Valid Acc: 82.54%\n",
            "Epoch: 41\n",
            "learning rate:  2.5715142542972573e-05\n",
            "\tTrain Loss: 1.109 | Train Acc: 84.92%\n",
            "\tValid Loss: 1.116 | Valid Acc: 83.43%\n",
            "Epoch: 42\n",
            "learning rate:  2.540839030242197e-05\n",
            "\tTrain Loss: 1.103 | Train Acc: 85.97%\n",
            "\tValid Loss: 1.109 | Valid Acc: 83.82%\n",
            "Epoch: 43\n",
            "learning rate:  2.5112360116696133e-05\n",
            "\tTrain Loss: 1.099 | Train Acc: 85.58%\n",
            "\tValid Loss: 1.104 | Valid Acc: 84.02%\n",
            "Epoch: 44\n",
            "learning rate:  2.4826441574616803e-05\n",
            "\tTrain Loss: 1.089 | Train Acc: 86.46%\n",
            "\tValid Loss: 1.100 | Valid Acc: 84.21%\n",
            "Epoch: 45\n",
            "learning rate:  2.4550071834116303e-05\n",
            "\tTrain Loss: 1.085 | Train Acc: 86.19%\n",
            "\tValid Loss: 1.096 | Valid Acc: 84.80%\n",
            "Epoch: 46\n",
            "learning rate:  2.428273095975861e-05\n",
            "\tTrain Loss: 1.076 | Train Acc: 87.38%\n",
            "\tValid Loss: 1.093 | Valid Acc: 84.80%\n",
            "Epoch: 47\n",
            "learning rate:  2.4023937806910304e-05\n",
            "\tTrain Loss: 1.075 | Train Acc: 86.88%\n",
            "\tValid Loss: 1.090 | Valid Acc: 84.30%\n",
            "Epoch: 48\n",
            "learning rate:  2.3773246378396357e-05\n",
            "\tTrain Loss: 1.066 | Train Acc: 87.63%\n",
            "\tValid Loss: 1.087 | Valid Acc: 84.49%\n",
            "Epoch: 49\n",
            "learning rate:  2.3530242590848502e-05\n",
            "\tTrain Loss: 1.059 | Train Acc: 88.17%\n",
            "\tValid Loss: 1.086 | Valid Acc: 84.88%\n",
            "Epoch: 50\n",
            "learning rate:  2.3294541397390265e-05\n",
            "\tTrain Loss: 1.059 | Train Acc: 88.69%\n",
            "\tValid Loss: 1.084 | Valid Acc: 85.08%\n",
            "Epoch: 51\n",
            "learning rate:  2.3065784221162788e-05\n",
            "\tTrain Loss: 1.053 | Train Acc: 88.10%\n",
            "\tValid Loss: 1.081 | Valid Acc: 85.08%\n",
            "Epoch: 52\n",
            "learning rate:  2.2843636660769316e-05\n",
            "\tTrain Loss: 1.044 | Train Acc: 89.89%\n",
            "\tValid Loss: 1.078 | Valid Acc: 85.27%\n",
            "Epoch: 53\n",
            "learning rate:  2.262778643423326e-05\n",
            "\tTrain Loss: 1.045 | Train Acc: 89.13%\n",
            "\tValid Loss: 1.075 | Valid Acc: 85.08%\n",
            "Epoch: 54\n",
            "learning rate:  2.2417941532712197e-05\n",
            "\tTrain Loss: 1.046 | Train Acc: 89.05%\n",
            "\tValid Loss: 1.074 | Valid Acc: 85.27%\n",
            "Epoch: 55\n",
            "learning rate:  2.2213828559138186e-05\n",
            "\tTrain Loss: 1.040 | Train Acc: 89.68%\n",
            "\tValid Loss: 1.073 | Valid Acc: 84.77%\n",
            "Epoch: 56\n",
            "learning rate:  2.2015191230285362e-05\n",
            "\tTrain Loss: 1.037 | Train Acc: 89.57%\n",
            "\tValid Loss: 1.071 | Valid Acc: 84.97%\n",
            "Epoch: 57\n",
            "learning rate:  2.1821789023599234e-05\n",
            "\tTrain Loss: 1.032 | Train Acc: 89.96%\n",
            "\tValid Loss: 1.069 | Valid Acc: 84.97%\n",
            "Epoch: 58\n",
            "learning rate:  2.1633395952539454e-05\n",
            "\tTrain Loss: 1.031 | Train Acc: 90.26%\n",
            "\tValid Loss: 1.067 | Valid Acc: 84.97%\n",
            "Epoch: 59\n",
            "learning rate:  2.1449799456256343e-05\n",
            "\tTrain Loss: 1.028 | Train Acc: 90.43%\n",
            "\tValid Loss: 1.067 | Valid Acc: 84.97%\n",
            "Epoch: 60\n",
            "learning rate:  2.1270799391196736e-05\n",
            "\tTrain Loss: 1.019 | Train Acc: 91.64%\n",
            "\tValid Loss: 1.066 | Valid Acc: 85.36%\n",
            "Epoch: 61\n",
            "learning rate:  2.1096207113761928e-05\n",
            "\tTrain Loss: 1.026 | Train Acc: 90.37%\n",
            "\tValid Loss: 1.064 | Valid Acc: 85.16%\n",
            "Epoch: 62\n",
            "learning rate:  2.0925844644458285e-05\n",
            "\tTrain Loss: 1.024 | Train Acc: 90.44%\n",
            "\tValid Loss: 1.064 | Valid Acc: 85.36%\n",
            "Epoch: 63\n",
            "learning rate:  2.0759543905120767e-05\n",
            "\tTrain Loss: 1.020 | Train Acc: 90.99%\n",
            "\tValid Loss: 1.063 | Valid Acc: 85.36%\n",
            "Epoch: 64\n",
            "learning rate:  2.059714602177749e-05\n",
            "\tTrain Loss: 1.014 | Train Acc: 91.25%\n",
            "\tValid Loss: 1.063 | Valid Acc: 85.16%\n",
            "Epoch: 65\n",
            "learning rate:  2.043850068658243e-05\n",
            "\tTrain Loss: 1.014 | Train Acc: 91.20%\n",
            "\tValid Loss: 1.063 | Valid Acc: 85.36%\n",
            "Epoch: 66\n",
            "learning rate:  2.0283465572991064e-05\n",
            "\tTrain Loss: 1.009 | Train Acc: 91.92%\n",
            "\tValid Loss: 1.062 | Valid Acc: 85.36%\n",
            "Epoch: 67\n",
            "learning rate:  2.013190579900678e-05\n",
            "\tTrain Loss: 1.008 | Train Acc: 92.22%\n",
            "\tValid Loss: 1.061 | Valid Acc: 85.36%\n",
            "Epoch: 68\n",
            "learning rate:  1.9983693433897137e-05\n",
            "\tTrain Loss: 1.006 | Train Acc: 92.05%\n",
            "\tValid Loss: 1.059 | Valid Acc: 85.86%\n",
            "Epoch: 69\n",
            "learning rate:  1.9838707044279755e-05\n",
            "\tTrain Loss: 1.003 | Train Acc: 92.51%\n",
            "\tValid Loss: 1.057 | Valid Acc: 85.86%\n",
            "Epoch: 70\n",
            "learning rate:  1.9696831275917343e-05\n",
            "\tTrain Loss: 1.001 | Train Acc: 92.61%\n",
            "\tValid Loss: 1.057 | Valid Acc: 86.05%\n",
            "Epoch: 71\n",
            "learning rate:  1.955795646794894e-05\n",
            "\tTrain Loss: 0.998 | Train Acc: 92.69%\n",
            "\tValid Loss: 1.056 | Valid Acc: 86.05%\n",
            "Epoch: 72\n",
            "learning rate:  1.9421978296625203e-05\n",
            "\tTrain Loss: 0.998 | Train Acc: 92.90%\n",
            "\tValid Loss: 1.056 | Valid Acc: 85.86%\n",
            "Epoch: 73\n",
            "learning rate:  1.9288797445917746e-05\n",
            "\tTrain Loss: 1.001 | Train Acc: 92.67%\n",
            "\tValid Loss: 1.055 | Valid Acc: 85.66%\n",
            "Epoch: 74\n",
            "learning rate:  1.9158319302639066e-05\n",
            "\tTrain Loss: 0.996 | Train Acc: 92.77%\n",
            "\tValid Loss: 1.055 | Valid Acc: 85.86%\n",
            "Epoch: 75\n",
            "learning rate:  1.9030453673946286e-05\n",
            "\tTrain Loss: 1.000 | Train Acc: 92.12%\n",
            "\tValid Loss: 1.053 | Valid Acc: 86.16%\n"
          ],
          "name": "stdout"
        }
      ]
    },
    {
      "cell_type": "code",
      "metadata": {
        "id": "j7dHckRceoig"
      },
      "source": [
        "# plt.plot(range(len(learning_rate)), learning_rate)"
      ],
      "id": "j7dHckRceoig",
      "execution_count": null,
      "outputs": []
    },
    {
      "cell_type": "code",
      "metadata": {
        "colab": {
          "base_uri": "https://localhost:8080/",
          "height": 282
        },
        "id": "d641862e",
        "outputId": "a129132d-4730-4133-9d33-c162483c10b8"
      },
      "source": [
        "plt.plot(l_train)\n",
        "plt.plot(l_valid)"
      ],
      "id": "d641862e",
      "execution_count": null,
      "outputs": [
        {
          "output_type": "execute_result",
          "data": {
            "text/plain": [
              "[<matplotlib.lines.Line2D at 0x7f5d253c5110>]"
            ]
          },
          "metadata": {
            "tags": []
          },
          "execution_count": 183
        },
        {
          "output_type": "display_data",
          "data": {
            "image/png": "[encoded data removed]",
            "text/plain": [
              "<Figure size 432x288 with 1 Axes>"
            ]
          },
          "metadata": {
            "tags": [],
            "needs_background": "light"
          }
        }
      ]
    },
    {
      "cell_type": "code",
      "metadata": {
        "colab": {
          "base_uri": "https://localhost:8080/",
          "height": 282
        },
        "id": "eac8108d",
        "outputId": "38c249ab-8eaa-4da9-f86d-cecc0bfa60e1"
      },
      "source": [
        "plt.plot(acc_train)\n",
        "plt.plot(acc_valid)"
      ],
      "id": "eac8108d",
      "execution_count": null,
      "outputs": [
        {
          "output_type": "execute_result",
          "data": {
            "text/plain": [
              "[<matplotlib.lines.Line2D at 0x7f5d41264210>]"
            ]
          },
          "metadata": {
            "tags": []
          },
          "execution_count": 184
        },
        {
          "output_type": "display_data",
          "data": {
            "image/png": "[encoded data removed]",
            "text/plain": [
              "<Figure size 432x288 with 1 Axes>"
            ]
          },
          "metadata": {
            "tags": [],
            "needs_background": "light"
          }
        }
      ]
    },
    {
      "cell_type": "code",
      "metadata": {
        "id": "CpakbpBjL6x9",
        "colab": {
          "base_uri": "https://localhost:8080/"
        },
        "outputId": "757ed2ca-2010-46c2-d026-cce6875c3d75"
      },
      "source": [
        "training_data, testing_data = prepare_data(train_data, test_data)\n",
        "# optimizer = optim.Adam(model.parameters(), lr=1e-2, betas=(0.9, 0.98), eps = 1e-9, weight_decay=1e-5)\n",
        "\n",
        "# lambda_scheduler = lambda step: vocab.vectors.shape[1] ** (-0.5) * min(1/np.sqrt((step+1)), (step+1)* (450**(-1.5)))\n",
        "# scheduler = optim.lr_scheduler.LambdaLR(optimizer, lr_lambda=lambda_scheduler)\n",
        "\n",
        "# criterion = nn.CrossEntropyLoss()\n",
        "# model = Transformer().to(device)\n",
        "# for epoch in range(N_EPOCHS):\n",
        "train(training_data, optimizer, criterion)"
      ],
      "id": "CpakbpBjL6x9",
      "execution_count": null,
      "outputs": [
        {
          "output_type": "execute_result",
          "data": {
            "text/plain": [
              "(1.0072281956672668, 0.9156634126390729)"
            ]
          },
          "metadata": {
            "tags": []
          },
          "execution_count": 185
        }
      ]
    },
    {
      "cell_type": "code",
      "metadata": {
        "colab": {
          "base_uri": "https://localhost:8080/"
        },
        "id": "KwlNJxjXCyag",
        "outputId": "56db4515-9067-499f-ca2c-33e2e20d36f2"
      },
      "source": [
        "# training_data, testing_data = prepare_data(train_data, test_data)\n",
        "# model = Transformer().to(device)\n",
        "# model.load_state_dict(torch.load('transformer_test.pt'))"
      ],
      "id": "KwlNJxjXCyag",
      "execution_count": null,
      "outputs": [
        {
          "output_type": "execute_result",
          "data": {
            "text/plain": [
              "<All keys matched successfully>"
            ]
          },
          "metadata": {
            "tags": []
          },
          "execution_count": 172
        }
      ]
    },
    {
      "cell_type": "code",
      "metadata": {
        "id": "2f6997db"
      },
      "source": [
        "ans = predict(testing_data, best_model, optimizer, criterion)\n",
        "ans.insert(0, column=\"Id\", value = ans.index.values)\n",
        "ans.to_csv('0852629_submission_transformer.csv', index = False)"
      ],
      "id": "2f6997db",
      "execution_count": null,
      "outputs": []
    },
    {
      "cell_type": "code",
      "metadata": {
        "id": "Jh1tmzVKrxhc"
      },
      "source": [
        "# torch.save(model.state_dict(), 'transformer_test.pt')"
      ],
      "id": "Jh1tmzVKrxhc",
      "execution_count": null,
      "outputs": []
    },
    {
      "cell_type": "markdown",
      "metadata": {
        "id": "1de985d7"
      },
      "source": [
        "# Attention map"
      ],
      "id": "1de985d7"
    },
    {
      "cell_type": "code",
      "metadata": {
        "id": "f4af8839",
        "colab": {
          "base_uri": "https://localhost:8080/",
          "height": 1000
        },
        "outputId": "9a7b269a-6483-40b9-eb67-e88b7c9ade20"
      },
      "source": [
        "cnt = 0\n",
        "for batch in training_data:\n",
        "    text, _ = batch.title\n",
        "    tag, _ = batch.pos_tag\n",
        "    label_idx = batch.category[-5].cpu().numpy()[0]\n",
        "\n",
        "    print(category.vocab.itos[label_idx], '\\n')\n",
        "    plot_attention(text, tag)\n",
        "    cnt += 1\n",
        "    \n",
        "    if cnt == 5: break"
      ],
      "id": "f4af8839",
      "execution_count": null,
      "outputs": [
        {
          "output_type": "stream",
          "text": [
            "sport \n",
            "\n",
            "Prediction : sport\n"
          ],
          "name": "stdout"
        },
        {
          "output_type": "display_data",
          "data": {
            "image/png": "[encoded data removed]",
            "text/plain": [
              "<Figure size 432x288 with 1 Axes>"
            ]
          },
          "metadata": {
            "tags": [],
            "needs_background": "light"
          }
        },
        {
          "output_type": "stream",
          "text": [
            "sport \n",
            "\n",
            "Prediction : sport\n"
          ],
          "name": "stdout"
        },
        {
          "output_type": "display_data",
          "data": {
            "image/png": "[encoded data removed]",
            "text/plain": [
              "<Figure size 432x288 with 1 Axes>"
            ]
          },
          "metadata": {
            "tags": [],
            "needs_background": "light"
          }
        },
        {
          "output_type": "stream",
          "text": [
            "tech \n",
            "\n",
            "Prediction : tech\n"
          ],
          "name": "stdout"
        },
        {
          "output_type": "display_data",
          "data": {
            "image/png": "[encoded data removed]",
            "text/plain": [
              "<Figure size 432x288 with 1 Axes>"
            ]
          },
          "metadata": {
            "tags": [],
            "needs_background": "light"
          }
        },
        {
          "output_type": "stream",
          "text": [
            "sport \n",
            "\n",
            "Prediction : sport\n"
          ],
          "name": "stdout"
        },
        {
          "output_type": "display_data",
          "data": {
            "image/png": "[encoded data removed]",
            "text/plain": [
              "<Figure size 432x288 with 1 Axes>"
            ]
          },
          "metadata": {
            "tags": [],
            "needs_background": "light"
          }
        },
        {
          "output_type": "stream",
          "text": [
            "entertainment \n",
            "\n",
            "Prediction : sport\n"
          ],
          "name": "stdout"
        },
        {
          "output_type": "display_data",
          "data": {
            "image/png": "[encoded data removed]",
            "text/plain": [
              "<Figure size 432x288 with 1 Axes>"
            ]
          },
          "metadata": {
            "tags": [],
            "needs_background": "light"
          }
        }
      ]
    },
    {
      "cell_type": "code",
      "metadata": {
        "id": "_Dbgq8xPpbxb"
      },
      "source": [
        ""
      ],
      "id": "_Dbgq8xPpbxb",
      "execution_count": null,
      "outputs": []
    }
  ]
}